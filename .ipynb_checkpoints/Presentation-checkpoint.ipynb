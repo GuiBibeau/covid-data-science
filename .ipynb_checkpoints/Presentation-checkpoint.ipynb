{
 "cells": [
  {
   "cell_type": "markdown",
   "metadata": {},
   "source": [
    "# Project 2: Statistical Analysis of Covid-19\n",
    "![TOO REAL](data/assets/illustration.jpg)"
   ]
  },
  {
   "cell_type": "markdown",
   "metadata": {},
   "source": [
    "## Part 1: The Hypothesis\n",
    "\n",
    "We hypothesized, based on local and global events in the past year, of what the average Canaddian individual's purchasing power would be in the coming future. Our hypothesis was that the individual's purchasing power would see a bit of a decline. \n",
    "\n",
    "To come to this conclusion, we decided to look at three economic factors that affect the average individual: \n",
    "    - The real estate market\n",
    "    - The stock market\n",
    "    - The individual's debt\n",
    "    \n",
    "We have collected data about these three factors, focusing on Canada, and examined them using an ARIMA model for statistical forecasting. "
   ]
  },
  {
   "cell_type": "markdown",
   "metadata": {},
   "source": [
    "## Part 2: Real Estate\n",
    "\n",
    "![house pizza](data/assets/house_sale.jpg)\n",
    "\n",
    "We found a dataset that listed the prices of homes in Canada. We cut off the data at the end of 2018 to keep it more recent and relevant (Who needs data from 1980). \n",
    "\n",
    "![home prices](data/assets/real_estate_prices.png)\n",
    "\n",
    "Here we can clearly observed the effects of Covid on the real estate market. Ouch... \n",
    "Keeping in mind the inflation rate changes due to the economy going bananas, we forecasted the data and ended up with the following graph.\n",
    "\n",
    "![home arima](data/assets/real_estate_arima.png)"
   ]
  },
  {
   "cell_type": "markdown",
   "metadata": {},
   "source": [
    "## Part 3: The Stock Market\n",
    "\n",
    "![stonks](data/assets/stonks.jpg)\n",
    "\n",
    "Here we took a look at a few different options. Starting with the S&P/TSX Composite Index, we did the same thing as with the real estate data. We cut it at the end of 2018 and graphed it:\n",
    "\n",
    "![real stonks](data/assets/sp_tsx.png)\n",
    "\n",
    "Next, we forecast it!\n",
    "\n",
    "![also stonks](data/assets/sp_tsx_forecast_pre_covid.png)\n",
    "\n",
    "Just for fun, we also looked at Google and Amazon. \n",
    "\n",
    "Starting with Google!\n",
    "\n",
    "![gooloogooloo stonks](data/assets/google_closing_price.png)\n",
    "\n",
    "And the forecasted version:\n",
    "\n",
    "![ESP gogles](data/assets/forecasting_google_before_covid.png)\n",
    "\n",
    "Next is Amazon.\n",
    "\n",
    "![amazon stonks](data/assets/amazon_closing_price.png)\n",
    "\n",
    "And it's forecast:\n",
    "![ESP amazon](data/assets/forecasting_amazon_before_covid.png)\n",
    "\n",
    "\n",
    "Conclusion: Amazon didn't care."
   ]
  },
  {
   "cell_type": "markdown",
   "metadata": {},
   "source": [
    "## Part 3: Debt\n",
    "\n",
    "![debt](data/assets/debt.png)\n",
    "\n",
    "This one is a bit differet. We took a dataset that has the average payment per city in Canada, per annual quarter. \n",
    "\n",
    "We trimmed it down the the 7 biggest cities in Canada for two reasons:\n",
    "    1. It's more representative of the average consumer on a wide scale analysis\n",
    "    2. There were too many damn cities\n",
    "    \n",
    "Here's what we got:\n",
    "\n",
    "![3dboi](data/assets/avg_credit_3d.png)\n",
    "\n",
    "Now this one is a little different. Because we're comparing quarterly data instead of data over a period of time, it cannot be forecasted. Given the trend represented in the data, not much has really changed from one quarter to the next. It would be safe to infer that the risks of any significant change to the average payment of credit is extremly low."
   ]
  },
  {
   "cell_type": "markdown",
   "metadata": {},
   "source": [
    "## Part 4: The Average Consumer's Portfolio\n"
   ]
  }
 ],
 "metadata": {
  "kernelspec": {
   "display_name": "Python 3",
   "language": "python",
   "name": "python3"
  },
  "language_info": {
   "codemirror_mode": {
    "name": "ipython",
    "version": 3
   },
   "file_extension": ".py",
   "mimetype": "text/x-python",
   "name": "python",
   "nbconvert_exporter": "python",
   "pygments_lexer": "ipython3",
   "version": "3.7.6"
  }
 },
 "nbformat": 4,
 "nbformat_minor": 4
}
